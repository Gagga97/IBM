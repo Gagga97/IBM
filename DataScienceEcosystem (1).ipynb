{
  "nbformat": 4,
  "nbformat_minor": 0,
  "metadata": {
    "colab": {
      "provenance": []
    },
    "kernelspec": {
      "name": "python3",
      "display_name": "Python 3"
    },
    "language_info": {
      "name": "python"
    }
  },
  "cells": [
    {
      "cell_type": "markdown",
      "source": [
        "# Data Science Tools and Ecosystem"
      ],
      "metadata": {
        "id": "wWkVaMLAhysf"
      }
    },
    {
      "cell_type": "markdown",
      "source": [
        "## In this notebook, Data Science Tools and Ecosystem are summarized."
      ],
      "metadata": {
        "id": "jMkEBo_PhA8Y"
      }
    },
    {
      "cell_type": "markdown",
      "source": [
        "**# Objectives:**\n",
        "\n",
        "\n",
        "*   Some of the popular languages that Data Scientists\n",
        "*   Data Science Tools\n",
        "*   evaluating arithmetic expressions in Python\n",
        "\n",
        "\n",
        "\n"
      ],
      "metadata": {
        "id": "1rjy3aqwjhfs"
      }
    },
    {
      "cell_type": "markdown",
      "source": [
        "### Some of the popular languages that Data Scientists use are:\n",
        "1.   Python\n",
        "2.   R\n",
        "3.   SQL server\n",
        "\n",
        "\n",
        "\n"
      ],
      "metadata": {
        "id": "peqVOSOwgKcD"
      }
    },
    {
      "cell_type": "markdown",
      "source": [
        "### Some of the commonly used libraries used by Data Scientists include:\n",
        "*   Pandas\n",
        "*   Matplotlib\n",
        "*   Scikit-learn\n",
        "*   Hadoop Libraries\n"
      ],
      "metadata": {
        "id": "-ZXtQjdpqTTo"
      }
    },
    {
      "cell_type": "markdown",
      "source": [
        "### Data Science Tools\n",
        "1.   Jupyter Notebook\n",
        "2.   RStudio\n",
        "3.   Apache Zeppelin"
      ],
      "metadata": {
        "id": "YE05s53WfkEi"
      }
    },
    {
      "cell_type": "markdown",
      "source": [
        "### Below are a few examples of evaluating arithmetic expressions in Python"
      ],
      "metadata": {
        "id": "z7vwMzbtcC2S"
      }
    },
    {
      "cell_type": "code",
      "source": [
        "(3*4)+5\n",
        "#this a simple arithmetic expression to mutiply then add integers"
      ],
      "metadata": {
        "colab": {
          "base_uri": "https://localhost:8080/"
        },
        "id": "15i8_O41cvH8",
        "outputId": "a2d79ce8-6aca-46a7-d315-b025ef58a52b"
      },
      "execution_count": 1,
      "outputs": [
        {
          "output_type": "execute_result",
          "data": {
            "text/plain": [
              "17"
            ]
          },
          "metadata": {},
          "execution_count": 1
        }
      ]
    },
    {
      "cell_type": "code",
      "source": [
        " #This will convert 200 minutes to hours by diving by 60\n",
        "A = int(input(\"Enter the number of minutes:\"))\n",
        "B = int(A/60)\n",
        "C = A%60\n",
        "print(B,\"hours\",C,\"minutes\")"
      ],
      "metadata": {
        "colab": {
          "base_uri": "https://localhost:8080/"
        },
        "id": "_O8TCs5PdZP_",
        "outputId": "69cc598a-3f43-434d-e710-1bfd5a25a3c9"
      },
      "execution_count": 5,
      "outputs": [
        {
          "output_type": "stream",
          "name": "stdout",
          "text": [
            "Enter the number of minutes:200\n",
            "3 hours 20 minutes\n"
          ]
        }
      ]
    },
    {
      "cell_type": "markdown",
      "source": [
        "## Author : IBM\n",
        "Wokha BA"
      ],
      "metadata": {
        "id": "IoQick1Qkn1H"
      }
    },
    {
      "cell_type": "code",
      "source": [],
      "metadata": {
        "id": "ZkBvHhGMfAsh"
      },
      "execution_count": null,
      "outputs": []
    }
  ]
}